{
 "cells": [
  {
   "cell_type": "markdown",
   "metadata": {},
   "source": [
    "## Problem Set 4 (Part 2): REST APIs\n",
    "\n",
    "\n",
    "This notebook consists of problems related to the implementation and use of RESTful APIs. Section 1 has you practice different types of requests as seen in Part 1. Section 2 involves using the SimFin RESTful API to create the correct requests in python. We haven't used SimFin yet, so you will need to translate your REST knowledge of API requests to SimFin's specifications. You will also need to refer to SimFin's documentation (https://simfin.com/api/v1/documentation/) to complete the request URLs correctly. As you progress through the noteobok, please complete all of the tasks and execute each cell subsequently. \n",
    "\n",
    "1. Practicing REST requests with Insomnia\n",
    "2. Using the SimFin RESTful API"
   ]
  },
  {
   "cell_type": "markdown",
   "metadata": {},
   "source": [
    "#### Section 1: Practicing REST requests with Insomnia"
   ]
  },
  {
   "cell_type": "markdown",
   "metadata": {},
   "source": [
    "From Part 1, run the API and test it using Insomnia. Provide the correct REST request for the following scenarios.<br /> Using the appropriate request type, provide answers in this format: \"GET http://127.0.0.1:5000/... \""
   ]
  },
  {
   "cell_type": "markdown",
   "metadata": {},
   "source": [
    "(1) Retrieve data for the company Apple"
   ]
  },
  {
   "cell_type": "markdown",
   "metadata": {},
   "source": [
    "GET http://127.0.0.1:5000/firms/Apple"
   ]
  },
  {
   "cell_type": "markdown",
   "metadata": {},
   "source": [
    "(2) Add Company X, the current stock price, and the ticker symbol."
   ]
  },
  {
   "cell_type": "markdown",
   "metadata": {},
   "source": []
  },
  {
   "cell_type": "markdown",
   "metadata": {},
   "source": [
    "(3) Change the ticker symbol of Alphabet to GOOGL while keeping the same stock price."
   ]
  },
  {
   "cell_type": "markdown",
   "metadata": {},
   "source": []
  },
  {
   "cell_type": "markdown",
   "metadata": {},
   "source": [
    "(4) Add JPM without using a POST request."
   ]
  },
  {
   "cell_type": "markdown",
   "metadata": {},
   "source": []
  },
  {
   "cell_type": "markdown",
   "metadata": {},
   "source": [
    "#### Section 2: Using the SimFin RESTful API"
   ]
  },
  {
   "cell_type": "markdown",
   "metadata": {},
   "source": [
    "In this section you will be accessing the SimFin (http://simfin.com) public API using python code. An HTTP library for submitting requests to the SimFin API is needed. You will use the library \"requests\", which we have used before and is imported in the next cell. "
   ]
  },
  {
   "cell_type": "code",
   "execution_count": 1,
   "metadata": {},
   "outputs": [],
   "source": [
    "import requests"
   ]
  },
  {
   "cell_type": "markdown",
   "metadata": {},
   "source": [
    "Go to SimFin's website and sign up for API access. You will be given an API key, which will be available after you register here: https://simfin.com/data/access/api"
   ]
  },
  {
   "cell_type": "markdown",
   "metadata": {},
   "source": [
    "(1) Assign your SimFin API key to the variable below."
   ]
  },
  {
   "cell_type": "code",
   "execution_count": 3,
   "metadata": {},
   "outputs": [],
   "source": [
    "api_key = 'TCN9OMsgGJymU0wk2hBTHVFYS051gNAD'"
   ]
  },
  {
   "cell_type": "markdown",
   "metadata": {},
   "source": [
    "(2) Assign Apple Inc.'s stock ticker as a string to the variable below:"
   ]
  },
  {
   "cell_type": "code",
   "execution_count": 4,
   "metadata": {},
   "outputs": [],
   "source": [
    "tickerStr = 'AAPL'"
   ]
  },
  {
   "cell_type": "markdown",
   "metadata": {},
   "source": [
    "Using the ticker variable, we need to obtain the simId for the company Apple. The simId will be used for the other requests. Refer to the \"Find SimFin ID by Ticker\" section of the documentation. "
   ]
  },
  {
   "cell_type": "markdown",
   "metadata": {},
   "source": [
    "(3) Assign the correct request url to the variable in the cell below. Make sure to include Apple's ticker symbol as a path parameter and your API key as a optional parameter. Use formatted strings to insert variable values into the string when it is assigned."
   ]
  },
  {
   "cell_type": "code",
   "execution_count": 9,
   "metadata": {},
   "outputs": [],
   "source": [
    "request_url_id = f'https://simfin.com/api/v1/info/find-id/ticker/{tickerStr}?api-key={api_key}'"
   ]
  },
  {
   "cell_type": "markdown",
   "metadata": {},
   "source": [
    "The following cell uses the requests library that we imported above. It uses the request url variable you assigned and checks whether the request was successful. This cell also assigns Apple's SimFin ID to the variable aapl_id and prints it. A successful request will print both a status code of 200 and then Apple's ID. Reference this cell for other requests."
   ]
  },
  {
   "cell_type": "code",
   "execution_count": 10,
   "metadata": {},
   "outputs": [
    {
     "name": "stdout",
     "output_type": "stream",
     "text": [
      "<Response [200]>\n",
      "Apple's ID:  111052\n"
     ]
    }
   ],
   "source": [
    "response_content_id = requests.get(request_url_id)\n",
    "data_id = response_content_id.json()\n",
    "print(response_content_id)\n",
    "companyId = data_id[0]['simId']\n",
    "print(\"Apple's ID: \", companyId)"
   ]
  },
  {
   "cell_type": "markdown",
   "metadata": {},
   "source": [
    "(4) Apple has spent over $300 billion on stock buybacks since first authorizing them in 2013. Let's take a look at how stock buybacks have affected the number of shares outstanding. Create a request that returns common shares outstanding since 2013 and assign it to the request_url_shares variable. Refer to the section \"Get aggregated shares outstanding figures for company\". Again, utilize formatted strings."
   ]
  },
  {
   "cell_type": "code",
   "execution_count": 29,
   "metadata": {},
   "outputs": [
    {
     "name": "stdout",
     "output_type": "stream",
     "text": [
      "https://simfin.com/api/v1/companies/id/111052/shares/aggregated?filter=common-outstanding&api-key=TCN9OMsgGJymU0wk2hBTHVFYS051gNAD\n"
     ]
    }
   ],
   "source": [
    "request_url_shares = f'https://simfin.com/api/v1/companies/id/{companyId}/shares/aggregated?filter=common-outstanding&api-key={api_key}'\n",
    "print(request_url_shares)"
   ]
  },
  {
   "cell_type": "code",
   "execution_count": 30,
   "metadata": {},
   "outputs": [
    {
     "name": "stdout",
     "output_type": "stream",
     "text": [
      "<Response [200]>\n"
     ]
    }
   ],
   "source": [
    "response_content_shares = requests.get(request_url_shares)\n",
    "data_shares = response_content_shares.json()\n",
    "print(response_content_shares)"
   ]
  },
  {
   "cell_type": "markdown",
   "metadata": {},
   "source": [
    "If you correctly created the request above, the next cell pulls the date and number of shares values from the json output saved in the data_shares variable and prints several lines showing the date and number of shares. Notice the decrease in shares outstanding starting in 2013 to the most recent data point."
   ]
  },
  {
   "cell_type": "code",
   "execution_count": 31,
   "metadata": {
    "scrolled": true
   },
   "outputs": [
    {
     "name": "stdout",
     "output_type": "stream",
     "text": [
      "Date: 2020-01-17 Shares: 4375480000\n",
      "Date: 2019-12-28 Shares: 4384959000\n",
      "Date: 2019-10-18 Shares: 4443265000\n",
      "Date: 2019-09-28 Shares: 4443236000\n",
      "Date: 2019-07-19 Shares: 4519180000\n",
      "Date: 2019-06-29 Shares: 4531395000\n",
      "Date: 2019-04-22 Shares: 4601075000\n",
      "Date: 2019-03-30 Shares: 4607284000\n",
      "Date: 2019-01-18 Shares: 4715280000\n",
      "Date: 2018-12-29 Shares: 4729803000\n",
      "Date: 2018-10-26 Shares: 4745398000\n",
      "Date: 2018-09-29 Shares: 4754986000\n",
      "Date: 2018-07-20 Shares: 4829926000\n",
      "Date: 2018-06-30 Shares: 4842917000\n",
      "Date: 2018-04-20 Shares: 4915138000\n",
      "Date: 2018-03-31 Shares: 4943282000\n",
      "Date: 2018-01-19 Shares: 5074013000\n",
      "Date: 2017-12-30 Shares: 5081651000\n",
      "Date: 2017-10-20 Shares: 5134312000\n",
      "Date: 2017-09-30 Shares: 5126201000\n",
      "Date: 2017-07-21 Shares: 5165228000\n",
      "Date: 2017-07-01 Shares: 5169782000\n",
      "Date: 2017-04-21 Shares: 5213840000\n",
      "Date: 2017-04-01 Shares: 5205815000\n",
      "Date: 2017-01-20 Shares: 5246540000\n",
      "Date: 2016-12-31 Shares: 5255423000\n",
      "Date: 2016-10-14 Shares: 5332313000\n",
      "Date: 2016-09-24 Shares: 5336166000\n",
      "Date: 2016-07-15 Shares: 5388443000\n",
      "Date: 2016-06-25 Shares: 5393165000\n",
      "Date: 2016-04-08 Shares: 5477425000\n",
      "Date: 2016-03-26 Shares: 5478446000\n",
      "Date: 2016-01-08 Shares: 5544583000\n",
      "Date: 2015-12-26 Shares: 5544487000\n",
      "Date: 2015-10-09 Shares: 5575331000\n",
      "Date: 2015-09-26 Shares: 5578753000\n",
      "Date: 2015-07-10 Shares: 5702722000\n",
      "Date: 2015-06-27 Shares: 5705400000\n",
      "Date: 2015-04-10 Shares: 5761030000\n",
      "Date: 2015-03-28 Shares: 5762278000\n",
      "Date: 2015-01-09 Shares: 5824748000\n",
      "Date: 2014-12-27 Shares: 5826419000\n",
      "Date: 2014-10-10 Shares: 5864840000\n",
      "Date: 2014-09-27 Shares: 5866161000\n",
      "Date: 2014-07-11 Shares: 5987867000\n",
      "Date: 2014-06-28 Shares: 5989171000\n",
      "Date: 2014-04-11 Shares: 6029667000\n",
      "Date: 2014-03-29 Shares: 6032215\n",
      "Date: 2014-01-10 Shares: 6243923000\n",
      "Date: 2013-12-28 Shares: 6247129000\n",
      "Date: 2013-10-18 Shares: 6298166000\n",
      "Date: 2013-09-28 Shares: 6294494000\n",
      "Date: 2013-07-12 Shares: 6359479000\n",
      "Date: 2013-06-29 Shares: 6359094000\n",
      "Date: 2013-04-12 Shares: 6570543000\n"
     ]
    }
   ],
   "source": [
    "for x in range(55):\n",
    "    print(\"Date:\", data_shares[x]['date'], \"Shares:\", data_shares[x]['value'])"
   ]
  },
  {
   "cell_type": "markdown",
   "metadata": {},
   "source": [
    "(5) Obtain share prices for Apple stock from 2013 to the present. Assign the correct request URL to the request_url_prices variable below. Refer to the section \"Get share price data for company\". Utilize formatted strings to receive full credit. "
   ]
  },
  {
   "cell_type": "code",
   "execution_count": 41,
   "metadata": {},
   "outputs": [
    {
     "name": "stdout",
     "output_type": "stream",
     "text": [
      "https://simfin.com/api/v1/companies/id/111052/shares/prices?start=2013-01-01&api-key=TCN9OMsgGJymU0wk2hBTHVFYS051gNAD\n"
     ]
    }
   ],
   "source": [
    "request_url_prices = f'https://simfin.com/api/v1/companies/id/{companyId}/shares/prices?start=2013-01-01&api-key={api_key}'\n",
    "print(request_url_prices)"
   ]
  },
  {
   "cell_type": "code",
   "execution_count": 42,
   "metadata": {},
   "outputs": [
    {
     "name": "stdout",
     "output_type": "stream",
     "text": [
      "<Response [200]>\n"
     ]
    }
   ],
   "source": [
    "response_content_prices = requests.get(request_url_prices)\n",
    "data_prices = response_content_prices.json()\n",
    "print(response_content_prices)"
   ]
  },
  {
   "cell_type": "markdown",
   "metadata": {},
   "source": [
    "If you created the correct API request, the next cell prints Apple's most recent share price and the share price at the beginning of 2013. "
   ]
  },
  {
   "cell_type": "code",
   "execution_count": 43,
   "metadata": {},
   "outputs": [
    {
     "name": "stdout",
     "output_type": "stream",
     "text": [
      "Current price:  289.32\n",
      "Early 2013 price:  68.69\n"
     ]
    }
   ],
   "source": [
    "current_price = data_prices['priceData'][0]['closeAdj']\n",
    "price_2013 = data_prices['priceData'][(len(data_prices['priceData'])-1)]['closeAdj']\n",
    "print(\"Current price: \", current_price)\n",
    "print(\"Early 2013 price: \", price_2013)"
   ]
  },
  {
   "cell_type": "markdown",
   "metadata": {},
   "source": [
    "(BONUS) Using the json data stored in the data_shares and data_prices variables, programmatically compute the current market value of the aggregate number of shares bought back since 2013. Apple has spent $306 billion on stock buybacks to date. The difference between the market value you compute and the amount spent on buybacks is the value created from the share buyback initiative. "
   ]
  },
  {
   "cell_type": "code",
   "execution_count": null,
   "metadata": {},
   "outputs": [],
   "source": []
  }
 ],
 "metadata": {
  "kernelspec": {
   "display_name": "Python 3",
   "language": "python",
   "name": "python3"
  },
  "language_info": {
   "codemirror_mode": {
    "name": "ipython",
    "version": 3
   },
   "file_extension": ".py",
   "mimetype": "text/x-python",
   "name": "python",
   "nbconvert_exporter": "python",
   "pygments_lexer": "ipython3",
   "version": "3.7.6"
  }
 },
 "nbformat": 4,
 "nbformat_minor": 2
}
