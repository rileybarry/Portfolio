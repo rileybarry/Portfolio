{
 "cells": [
  {
   "cell_type": "markdown",
   "metadata": {},
   "source": [
    "## Problem Set 2 (Part 2 of 2): Interacting with the Alpha Vantage API using Python libraries"
   ]
  },
  {
   "cell_type": "markdown",
   "metadata": {},
   "source": [
    "In Part 2 of Problem Set 2 we will be using the data retrived from the Alpha Vantage API and creating an optimized portfolio of stocks based on Modern Portfolio Theory. The PyPortfolioOpt package will be used to optimize a portfolio of stocks based maximizing the Sharpe Ratio. This exercise is an example of how a robo-advisor would use data APIs to continuously monitor and adjusts stock portfolios. \n",
    "\n",
    "This part of the exercise demonstrates:\n",
    "\n",
    "1. Setting up a programming environment to work with APIs\n",
    "2. Data preprocessing to create compatible datasets\n",
    "3. Using a quantititive popular portfolio optimization library to estimate risks and weights\n",
    "\n",
    "Documentation links:\n",
    "<br />Alpha Vantage: https://www.alphavantage.co/documentation/\n",
    "<br />Alpha Vantage Python library: https://alpha-vantage.readthedocs.io/en/latest/#\n",
    "<br />Pandas DataFrame: https://pandas.pydata.org/pandas-docs/stable/reference/frame.html\n",
    "<br />PyPortfolioOpt: https://pyportfolioopt.readthedocs.io/en/latest/index.html"
   ]
  },
  {
   "cell_type": "code",
   "execution_count": 1,
   "metadata": {},
   "outputs": [],
   "source": [
    "api_key = \"AUDS4B0HY9KIO68B\""
   ]
  },
  {
   "cell_type": "code",
   "execution_count": 2,
   "metadata": {},
   "outputs": [],
   "source": [
    "import pandas as pd\n",
    "import requests\n",
    "from alpha_vantage.timeseries import TimeSeries\n",
    "import matplotlib.pyplot as plt\n",
    "\n",
    "# PyPortfolioOpt libraries\n",
    "from pypfopt.efficient_frontier import EfficientFrontier\n",
    "from pypfopt import risk_models\n",
    "from pypfopt import expected_returns\n",
    "from pypfopt.discrete_allocation import DiscreteAllocation, get_latest_prices"
   ]
  },
  {
   "cell_type": "code",
   "execution_count": 3,
   "metadata": {},
   "outputs": [],
   "source": [
    "ts = TimeSeries(key=api_key,output_format='pandas')"
   ]
  },
  {
   "cell_type": "code",
   "execution_count": 5,
   "metadata": {},
   "outputs": [],
   "source": [
    "fb_data, fb_meta_data = ts.get_daily(symbol='FB', outputsize='full')\n",
    "msft_data, msft_meta_data = ts.get_daily(symbol='MSFT', outputsize='full')\n",
    "aapl_data, aapl_meta_data = ts.get_daily(symbol='AAPL', outputsize='full')\n",
    "amzn_data, amzn_meta_data = ts.get_daily(symbol='AMZN', outputsize='full')"
   ]
  },
  {
   "cell_type": "code",
   "execution_count": 6,
   "metadata": {},
   "outputs": [
    {
     "name": "stdout",
     "output_type": "stream",
     "text": [
      "            1. open  2. high  3. low  4. close    5. volume\n",
      "date                                                       \n",
      "2020-10-21  279.560   283.05  276.37  278.7300   28892712.0\n",
      "2020-10-20  263.060   269.70  262.88  267.5600   18763246.0\n",
      "2020-10-19  265.530   268.55  259.88  261.4000   13586955.0\n",
      "2020-10-16  267.375   271.37  265.30  265.9300   16622702.0\n",
      "2020-10-15  267.600   269.04  263.67  266.7200   15416064.0\n",
      "...             ...      ...     ...       ...          ...\n",
      "2012-05-24   32.950    33.21   31.77   33.0300   50237200.0\n",
      "2012-05-23   31.370    32.50   31.36   32.0000   73600000.0\n",
      "2012-05-22   32.610    33.59   30.94   31.0000  101786600.0\n",
      "2012-05-21   36.530    36.66   33.00   34.0300  168192700.0\n",
      "2012-05-18   42.050    45.00   38.00   38.2318  573576400.0\n",
      "\n",
      "[2121 rows x 5 columns]\n"
     ]
    }
   ],
   "source": [
    "print(fb_data)"
   ]
  },
  {
   "cell_type": "markdown",
   "metadata": {},
   "source": [
    "Isolate \"close\" column of data for each security:"
   ]
  },
  {
   "cell_type": "code",
   "execution_count": 7,
   "metadata": {
    "scrolled": true
   },
   "outputs": [],
   "source": [
    "fb_close = fb_data[\"4. close\"]\n",
    "msft_close = msft_data[\"4. close\"]\n",
    "aapl_close = aapl_data[\"4. close\"]\n",
    "amzn_close = amzn_data[\"4. close\"]"
   ]
  },
  {
   "cell_type": "markdown",
   "metadata": {},
   "source": [
    "Create new dataframe with tickers as columns:"
   ]
  },
  {
   "cell_type": "code",
   "execution_count": 8,
   "metadata": {},
   "outputs": [],
   "source": [
    "df = pd.DataFrame(columns=['fb', 'msft', 'aapl', 'amzn'])"
   ]
  },
  {
   "cell_type": "markdown",
   "metadata": {},
   "source": [
    "Place data into new dataframe:"
   ]
  },
  {
   "cell_type": "code",
   "execution_count": 9,
   "metadata": {
    "scrolled": true
   },
   "outputs": [],
   "source": [
    "df['fb'] = fb_close\n",
    "df['msft'] = msft_close\n",
    "df['aapl'] = aapl_close\n",
    "df['amzn'] = amzn_close"
   ]
  },
  {
   "cell_type": "code",
   "execution_count": 10,
   "metadata": {},
   "outputs": [
    {
     "name": "stdout",
     "output_type": "stream",
     "text": [
      "                  fb    msft    aapl     amzn\n",
      "date                                         \n",
      "2020-10-21  278.7300  214.80  116.87  3184.94\n",
      "2020-10-20  267.5600  214.65  117.51  3217.01\n",
      "2020-10-19  261.4000  214.22  115.98  3207.21\n",
      "2020-10-16  265.9300  219.66  119.02  3272.71\n",
      "2020-10-15  266.7200  219.66  120.71  3338.65\n",
      "...              ...     ...     ...      ...\n",
      "2012-05-24   33.0300   29.07  565.32   215.24\n",
      "2012-05-23   32.0000   29.11  570.56   217.28\n",
      "2012-05-22   31.0000   29.76  556.97   215.33\n",
      "2012-05-21   34.0300   29.75  561.28   218.11\n",
      "2012-05-18   38.2318   29.27  530.38   213.85\n",
      "\n",
      "[2121 rows x 4 columns]\n"
     ]
    }
   ],
   "source": [
    "print(df)"
   ]
  },
  {
   "cell_type": "markdown",
   "metadata": {},
   "source": [
    "Take only the earlist half of observations:"
   ]
  },
  {
   "cell_type": "code",
   "execution_count": 11,
   "metadata": {},
   "outputs": [],
   "source": [
    "df_fh = df[0:2121]"
   ]
  },
  {
   "cell_type": "code",
   "execution_count": 12,
   "metadata": {},
   "outputs": [
    {
     "data": {
      "text/plain": [
       "fb      2121\n",
       "msft    2121\n",
       "aapl    2121\n",
       "amzn    2121\n",
       "dtype: int64"
      ]
     },
     "execution_count": 12,
     "metadata": {},
     "output_type": "execute_result"
    }
   ],
   "source": [
    "df_fh.count()"
   ]
  },
  {
   "cell_type": "markdown",
   "metadata": {},
   "source": [
    "Calculate expected returns:"
   ]
  },
  {
   "cell_type": "code",
   "execution_count": 13,
   "metadata": {},
   "outputs": [],
   "source": [
    "mu = expected_returns.mean_historical_return(df_fh)"
   ]
  },
  {
   "cell_type": "code",
   "execution_count": 14,
   "metadata": {},
   "outputs": [
    {
     "name": "stdout",
     "output_type": "stream",
     "text": [
      "fb     -0.210330\n",
      "msft   -0.210946\n",
      "aapl    0.196968\n",
      "amzn   -0.274614\n",
      "dtype: float64\n"
     ]
    }
   ],
   "source": [
    "print(mu)"
   ]
  },
  {
   "cell_type": "markdown",
   "metadata": {},
   "source": [
    "Calculate sample covariance matrix:"
   ]
  },
  {
   "cell_type": "code",
   "execution_count": 15,
   "metadata": {},
   "outputs": [],
   "source": [
    "S = risk_models.sample_cov(df_fh)"
   ]
  },
  {
   "cell_type": "code",
   "execution_count": 16,
   "metadata": {},
   "outputs": [
    {
     "name": "stdout",
     "output_type": "stream",
     "text": [
      "            fb      msft      aapl      amzn\n",
      "fb    0.137102  0.041021  0.038861  0.050464\n",
      "msft  0.041021  0.068983  0.052412  0.043248\n",
      "aapl  0.038861  0.052412  5.183581  0.039443\n",
      "amzn  0.050464  0.043248  0.039443  0.091101\n"
     ]
    }
   ],
   "source": [
    "print(S)"
   ]
  },
  {
   "cell_type": "markdown",
   "metadata": {},
   "source": [
    "Optimize the weights to maximzie the Sharpe Ratio:"
   ]
  },
  {
   "cell_type": "code",
   "execution_count": 17,
   "metadata": {},
   "outputs": [
    {
     "name": "stdout",
     "output_type": "stream",
     "text": [
      "Expected annual return: 19.7%\n",
      "Annual volatility: 227.7%\n",
      "Sharpe Ratio: 0.08\n"
     ]
    },
    {
     "data": {
      "text/plain": [
       "(0.19696774914127135, 2.276747867067293, 0.0777283034722794)"
      ]
     },
     "execution_count": 17,
     "metadata": {},
     "output_type": "execute_result"
    }
   ],
   "source": [
    "ef = EfficientFrontier(mu, S)\n",
    "weights = ef.max_sharpe()\n",
    "ef.portfolio_performance(verbose=True)"
   ]
  },
  {
   "cell_type": "code",
   "execution_count": 18,
   "metadata": {},
   "outputs": [
    {
     "name": "stdout",
     "output_type": "stream",
     "text": [
      "OrderedDict([('fb', 0.0), ('msft', 0.0), ('aapl', 1.0), ('amzn', 0.0)])\n"
     ]
    }
   ],
   "source": [
    "print(weights)"
   ]
  },
  {
   "cell_type": "markdown",
   "metadata": {},
   "source": [
    "Using optimized weights, compute portfolio accolation:"
   ]
  },
  {
   "cell_type": "code",
   "execution_count": 19,
   "metadata": {},
   "outputs": [
    {
     "name": "stdout",
     "output_type": "stream",
     "text": [
      "{'aapl': 1885}\n"
     ]
    }
   ],
   "source": [
    "latest_prices = get_latest_prices(df)\n",
    "da = DiscreteAllocation(weights, latest_prices, total_portfolio_value=1000000)\n",
    "allocation, leftover = da.greedy_portfolio()\n",
    "print(allocation)"
   ]
  },
  {
   "cell_type": "markdown",
   "metadata": {},
   "source": [
    "To update portfolio, call the API again for latest data and run optimization model again:"
   ]
  },
  {
   "cell_type": "code",
   "execution_count": 20,
   "metadata": {},
   "outputs": [],
   "source": [
    "fb_data, fb_meta_data = ts.get_daily(symbol='FB', outputsize='full')\n",
    "msft_data, msft_meta_data = ts.get_daily(symbol='MSFT', outputsize='full')\n",
    "aapl_data, aapl_meta_data = ts.get_daily(symbol='AAPL', outputsize='full')\n",
    "amzn_data, amzn_meta_data = ts.get_daily(symbol='AMZN', outputsize='full')"
   ]
  },
  {
   "cell_type": "code",
   "execution_count": 21,
   "metadata": {},
   "outputs": [],
   "source": [
    "df = pd.DataFrame(columns=['fb', 'msft', 'aapl', 'amzn'])"
   ]
  },
  {
   "cell_type": "code",
   "execution_count": 22,
   "metadata": {},
   "outputs": [
    {
     "name": "stdout",
     "output_type": "stream",
     "text": [
      "                  fb    msft    aapl     amzn\n",
      "date                                         \n",
      "2020-10-21  278.7300  214.80  116.87  3184.94\n",
      "2020-10-20  267.5600  214.65  117.51  3217.01\n",
      "2020-10-19  261.4000  214.22  115.98  3207.21\n",
      "2020-10-16  265.9300  219.66  119.02  3272.71\n",
      "2020-10-15  266.7200  219.66  120.71  3338.65\n",
      "...              ...     ...     ...      ...\n",
      "2012-05-24   33.0300   29.07  565.32   215.24\n",
      "2012-05-23   32.0000   29.11  570.56   217.28\n",
      "2012-05-22   31.0000   29.76  556.97   215.33\n",
      "2012-05-21   34.0300   29.75  561.28   218.11\n",
      "2012-05-18   38.2318   29.27  530.38   213.85\n",
      "\n",
      "[2121 rows x 4 columns]\n"
     ]
    }
   ],
   "source": [
    "df['fb'] = fb_close\n",
    "df['msft'] = msft_close\n",
    "df['aapl'] = aapl_close\n",
    "df['amzn'] = amzn_close\n",
    "print(df)"
   ]
  },
  {
   "cell_type": "code",
   "execution_count": 23,
   "metadata": {},
   "outputs": [
    {
     "name": "stdout",
     "output_type": "stream",
     "text": [
      "{'aapl': 1885}\n"
     ]
    }
   ],
   "source": [
    "latest_prices = get_latest_prices(df)\n",
    "da = DiscreteAllocation(weights, latest_prices, total_portfolio_value=1000000)\n",
    "allocation, leftover = da.greedy_portfolio()\n",
    "print(allocation)"
   ]
  },
  {
   "cell_type": "code",
   "execution_count": null,
   "metadata": {},
   "outputs": [],
   "source": []
  }
 ],
 "metadata": {
  "kernelspec": {
   "display_name": "Python 3",
   "language": "python",
   "name": "python3"
  },
  "language_info": {
   "codemirror_mode": {
    "name": "ipython",
    "version": 3
   },
   "file_extension": ".py",
   "mimetype": "text/x-python",
   "name": "python",
   "nbconvert_exporter": "python",
   "pygments_lexer": "ipython3",
   "version": "3.7.6"
  }
 },
 "nbformat": 4,
 "nbformat_minor": 2
}
