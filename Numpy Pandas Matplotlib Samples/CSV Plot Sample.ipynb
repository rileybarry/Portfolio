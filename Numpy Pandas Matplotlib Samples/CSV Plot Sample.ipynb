{
 "cells": [
  {
   "cell_type": "markdown",
   "metadata": {},
   "source": [
    "## Problem Set 1: Visualizing stock market performance using Python libraries"
   ]
  },
  {
   "cell_type": "markdown",
   "metadata": {},
   "source": [
    "(Due: 1/28/2020)\n",
    "\n",
    "In this exercise you will demonstrate how to:\n",
    "1. Import and use Python libraries\n",
    "2. Load static data files\n",
    "3. Use object attributes to display information about your data\n",
    "4. Use object methods to manipulate your data\n",
    "5. Perform a correlation between two datasets\n",
    "6. Graph data using the matplotlib library\n",
    "7. Your assignement\n",
    "\n",
    "You'll also gain experience using documentation, selecting data, and working with variables."
   ]
  },
  {
   "cell_type": "markdown",
   "metadata": {},
   "source": [
    "#### 1. Import python libraries"
   ]
  },
  {
   "cell_type": "code",
   "execution_count": 1,
   "metadata": {},
   "outputs": [],
   "source": [
    "import numpy as np\n",
    "import pandas as pd\n",
    "import matplotlib.pyplot as plt"
   ]
  },
  {
   "cell_type": "markdown",
   "metadata": {},
   "source": [
    "#### 2. Load CSV file \n",
    "Refer to the pandas documentation: https://pandas.pydata.org/pandas-docs/stable/user_guide/io.html"
   ]
  },
  {
   "cell_type": "code",
   "execution_count": 2,
   "metadata": {},
   "outputs": [],
   "source": [
    "tsla = pd.read_csv(\"TSLA.csv\")"
   ]
  },
  {
   "cell_type": "markdown",
   "metadata": {},
   "source": [
    "Type the variable name and see the data."
   ]
  },
  {
   "cell_type": "code",
   "execution_count": 3,
   "metadata": {},
   "outputs": [
    {
     "data": {
      "text/html": [
       "<div>\n",
       "<style scoped>\n",
       "    .dataframe tbody tr th:only-of-type {\n",
       "        vertical-align: middle;\n",
       "    }\n",
       "\n",
       "    .dataframe tbody tr th {\n",
       "        vertical-align: top;\n",
       "    }\n",
       "\n",
       "    .dataframe thead th {\n",
       "        text-align: right;\n",
       "    }\n",
       "</style>\n",
       "<table border=\"1\" class=\"dataframe\">\n",
       "  <thead>\n",
       "    <tr style=\"text-align: right;\">\n",
       "      <th></th>\n",
       "      <th>Date</th>\n",
       "      <th>Open</th>\n",
       "      <th>High</th>\n",
       "      <th>Low</th>\n",
       "      <th>Close</th>\n",
       "      <th>Adj Close</th>\n",
       "      <th>Volume</th>\n",
       "    </tr>\n",
       "  </thead>\n",
       "  <tbody>\n",
       "    <tr>\n",
       "      <td>0</td>\n",
       "      <td>2010-08-30</td>\n",
       "      <td>19.700001</td>\n",
       "      <td>20.190001</td>\n",
       "      <td>19.610001</td>\n",
       "      <td>19.870001</td>\n",
       "      <td>19.870001</td>\n",
       "      <td>732800</td>\n",
       "    </tr>\n",
       "    <tr>\n",
       "      <td>1</td>\n",
       "      <td>2010-08-31</td>\n",
       "      <td>19.660000</td>\n",
       "      <td>19.790001</td>\n",
       "      <td>19.330000</td>\n",
       "      <td>19.480000</td>\n",
       "      <td>19.480000</td>\n",
       "      <td>201100</td>\n",
       "    </tr>\n",
       "    <tr>\n",
       "      <td>2</td>\n",
       "      <td>2010-09-01</td>\n",
       "      <td>19.620001</td>\n",
       "      <td>20.690001</td>\n",
       "      <td>19.600000</td>\n",
       "      <td>20.450001</td>\n",
       "      <td>20.450001</td>\n",
       "      <td>494900</td>\n",
       "    </tr>\n",
       "    <tr>\n",
       "      <td>3</td>\n",
       "      <td>2010-09-02</td>\n",
       "      <td>20.370001</td>\n",
       "      <td>21.240000</td>\n",
       "      <td>20.309999</td>\n",
       "      <td>21.059999</td>\n",
       "      <td>21.059999</td>\n",
       "      <td>487100</td>\n",
       "    </tr>\n",
       "    <tr>\n",
       "      <td>4</td>\n",
       "      <td>2010-09-03</td>\n",
       "      <td>20.870001</td>\n",
       "      <td>21.299999</td>\n",
       "      <td>20.660000</td>\n",
       "      <td>21.049999</td>\n",
       "      <td>21.049999</td>\n",
       "      <td>434600</td>\n",
       "    </tr>\n",
       "    <tr>\n",
       "      <td>...</td>\n",
       "      <td>...</td>\n",
       "      <td>...</td>\n",
       "      <td>...</td>\n",
       "      <td>...</td>\n",
       "      <td>...</td>\n",
       "      <td>...</td>\n",
       "      <td>...</td>\n",
       "    </tr>\n",
       "    <tr>\n",
       "      <td>2259</td>\n",
       "      <td>2019-08-21</td>\n",
       "      <td>222.009995</td>\n",
       "      <td>223.220001</td>\n",
       "      <td>217.600006</td>\n",
       "      <td>220.830002</td>\n",
       "      <td>220.830002</td>\n",
       "      <td>7794300</td>\n",
       "    </tr>\n",
       "    <tr>\n",
       "      <td>2260</td>\n",
       "      <td>2019-08-22</td>\n",
       "      <td>222.800003</td>\n",
       "      <td>225.399994</td>\n",
       "      <td>218.220001</td>\n",
       "      <td>222.149994</td>\n",
       "      <td>222.149994</td>\n",
       "      <td>6559000</td>\n",
       "    </tr>\n",
       "    <tr>\n",
       "      <td>2261</td>\n",
       "      <td>2019-08-23</td>\n",
       "      <td>219.970001</td>\n",
       "      <td>221.169998</td>\n",
       "      <td>211.000000</td>\n",
       "      <td>211.399994</td>\n",
       "      <td>211.399994</td>\n",
       "      <td>8538600</td>\n",
       "    </tr>\n",
       "    <tr>\n",
       "      <td>2262</td>\n",
       "      <td>2019-08-26</td>\n",
       "      <td>213.600006</td>\n",
       "      <td>215.020004</td>\n",
       "      <td>211.539993</td>\n",
       "      <td>215.000000</td>\n",
       "      <td>215.000000</td>\n",
       "      <td>5051900</td>\n",
       "    </tr>\n",
       "    <tr>\n",
       "      <td>2263</td>\n",
       "      <td>2019-08-27</td>\n",
       "      <td>215.740005</td>\n",
       "      <td>218.800003</td>\n",
       "      <td>212.029999</td>\n",
       "      <td>214.080002</td>\n",
       "      <td>214.080002</td>\n",
       "      <td>5416200</td>\n",
       "    </tr>\n",
       "  </tbody>\n",
       "</table>\n",
       "<p>2264 rows × 7 columns</p>\n",
       "</div>"
      ],
      "text/plain": [
       "            Date        Open        High         Low       Close   Adj Close  \\\n",
       "0     2010-08-30   19.700001   20.190001   19.610001   19.870001   19.870001   \n",
       "1     2010-08-31   19.660000   19.790001   19.330000   19.480000   19.480000   \n",
       "2     2010-09-01   19.620001   20.690001   19.600000   20.450001   20.450001   \n",
       "3     2010-09-02   20.370001   21.240000   20.309999   21.059999   21.059999   \n",
       "4     2010-09-03   20.870001   21.299999   20.660000   21.049999   21.049999   \n",
       "...          ...         ...         ...         ...         ...         ...   \n",
       "2259  2019-08-21  222.009995  223.220001  217.600006  220.830002  220.830002   \n",
       "2260  2019-08-22  222.800003  225.399994  218.220001  222.149994  222.149994   \n",
       "2261  2019-08-23  219.970001  221.169998  211.000000  211.399994  211.399994   \n",
       "2262  2019-08-26  213.600006  215.020004  211.539993  215.000000  215.000000   \n",
       "2263  2019-08-27  215.740005  218.800003  212.029999  214.080002  214.080002   \n",
       "\n",
       "       Volume  \n",
       "0      732800  \n",
       "1      201100  \n",
       "2      494900  \n",
       "3      487100  \n",
       "4      434600  \n",
       "...       ...  \n",
       "2259  7794300  \n",
       "2260  6559000  \n",
       "2261  8538600  \n",
       "2262  5051900  \n",
       "2263  5416200  \n",
       "\n",
       "[2264 rows x 7 columns]"
      ]
     },
     "execution_count": 3,
     "metadata": {},
     "output_type": "execute_result"
    }
   ],
   "source": [
    "tsla"
   ]
  },
  {
   "cell_type": "markdown",
   "metadata": {},
   "source": [
    "Notice that the index starts with \"0\"."
   ]
  },
  {
   "cell_type": "markdown",
   "metadata": {},
   "source": [
    "#### 3. Show information about the dataset using pandas DataFrame attributes.\n",
    "Refer to the pandas documentation: https://pandas.pydata.org/pandas-docs/stable/reference/api/pandas.DataFrame.html"
   ]
  },
  {
   "cell_type": "code",
   "execution_count": 4,
   "metadata": {},
   "outputs": [
    {
     "data": {
      "text/plain": [
       "(2264, 7)"
      ]
     },
     "execution_count": 4,
     "metadata": {},
     "output_type": "execute_result"
    }
   ],
   "source": [
    "tsla.shape"
   ]
  },
  {
   "cell_type": "code",
   "execution_count": 5,
   "metadata": {},
   "outputs": [
    {
     "data": {
      "text/plain": [
       "Index(['Date', 'Open', 'High', 'Low', 'Close', 'Adj Close', 'Volume'], dtype='object')"
      ]
     },
     "execution_count": 5,
     "metadata": {},
     "output_type": "execute_result"
    }
   ],
   "source": [
    "tsla.columns"
   ]
  },
  {
   "cell_type": "code",
   "execution_count": 6,
   "metadata": {},
   "outputs": [
    {
     "data": {
      "text/plain": [
       "Date          object\n",
       "Open         float64\n",
       "High         float64\n",
       "Low          float64\n",
       "Close        float64\n",
       "Adj Close    float64\n",
       "Volume         int64\n",
       "dtype: object"
      ]
     },
     "execution_count": 6,
     "metadata": {},
     "output_type": "execute_result"
    }
   ],
   "source": [
    "tsla.dtypes"
   ]
  },
  {
   "cell_type": "code",
   "execution_count": 7,
   "metadata": {},
   "outputs": [
    {
     "data": {
      "text/plain": [
       "15848"
      ]
     },
     "execution_count": 7,
     "metadata": {},
     "output_type": "execute_result"
    }
   ],
   "source": [
    "tsla.size"
   ]
  },
  {
   "cell_type": "code",
   "execution_count": 8,
   "metadata": {},
   "outputs": [
    {
     "data": {
      "text/plain": [
       "False"
      ]
     },
     "execution_count": 8,
     "metadata": {},
     "output_type": "execute_result"
    }
   ],
   "source": [
    "tsla.empty"
   ]
  },
  {
   "cell_type": "markdown",
   "metadata": {},
   "source": [
    "#### 4. Use pandas DataFrame methods to show information and manipulate the dataset."
   ]
  },
  {
   "cell_type": "markdown",
   "metadata": {},
   "source": [
    "Show descriptive statistics:"
   ]
  },
  {
   "cell_type": "code",
   "execution_count": 9,
   "metadata": {},
   "outputs": [
    {
     "data": {
      "text/html": [
       "<div>\n",
       "<style scoped>\n",
       "    .dataframe tbody tr th:only-of-type {\n",
       "        vertical-align: middle;\n",
       "    }\n",
       "\n",
       "    .dataframe tbody tr th {\n",
       "        vertical-align: top;\n",
       "    }\n",
       "\n",
       "    .dataframe thead th {\n",
       "        text-align: right;\n",
       "    }\n",
       "</style>\n",
       "<table border=\"1\" class=\"dataframe\">\n",
       "  <thead>\n",
       "    <tr style=\"text-align: right;\">\n",
       "      <th></th>\n",
       "      <th>Open</th>\n",
       "      <th>High</th>\n",
       "      <th>Low</th>\n",
       "      <th>Close</th>\n",
       "      <th>Adj Close</th>\n",
       "      <th>Volume</th>\n",
       "    </tr>\n",
       "  </thead>\n",
       "  <tbody>\n",
       "    <tr>\n",
       "      <td>count</td>\n",
       "      <td>2264.000000</td>\n",
       "      <td>2264.000000</td>\n",
       "      <td>2264.000000</td>\n",
       "      <td>2264.000000</td>\n",
       "      <td>2264.000000</td>\n",
       "      <td>2.264000e+03</td>\n",
       "    </tr>\n",
       "    <tr>\n",
       "      <td>mean</td>\n",
       "      <td>181.712778</td>\n",
       "      <td>184.853003</td>\n",
       "      <td>178.378352</td>\n",
       "      <td>181.708993</td>\n",
       "      <td>181.708993</td>\n",
       "      <td>5.365184e+06</td>\n",
       "    </tr>\n",
       "    <tr>\n",
       "      <td>std</td>\n",
       "      <td>112.542163</td>\n",
       "      <td>114.274684</td>\n",
       "      <td>110.667577</td>\n",
       "      <td>112.540258</td>\n",
       "      <td>112.540258</td>\n",
       "      <td>4.671656e+06</td>\n",
       "    </tr>\n",
       "    <tr>\n",
       "      <td>min</td>\n",
       "      <td>19.620001</td>\n",
       "      <td>19.790001</td>\n",
       "      <td>19.330000</td>\n",
       "      <td>19.480000</td>\n",
       "      <td>19.480000</td>\n",
       "      <td>1.185000e+05</td>\n",
       "    </tr>\n",
       "    <tr>\n",
       "      <td>25%</td>\n",
       "      <td>34.490000</td>\n",
       "      <td>34.995000</td>\n",
       "      <td>33.799999</td>\n",
       "      <td>34.430000</td>\n",
       "      <td>34.430000</td>\n",
       "      <td>1.839950e+06</td>\n",
       "    </tr>\n",
       "    <tr>\n",
       "      <td>50%</td>\n",
       "      <td>210.154999</td>\n",
       "      <td>214.000000</td>\n",
       "      <td>206.650002</td>\n",
       "      <td>209.970001</td>\n",
       "      <td>209.970001</td>\n",
       "      <td>4.463750e+06</td>\n",
       "    </tr>\n",
       "    <tr>\n",
       "      <td>75%</td>\n",
       "      <td>262.287498</td>\n",
       "      <td>265.667511</td>\n",
       "      <td>257.865005</td>\n",
       "      <td>262.099991</td>\n",
       "      <td>262.099991</td>\n",
       "      <td>7.166375e+06</td>\n",
       "    </tr>\n",
       "    <tr>\n",
       "      <td>max</td>\n",
       "      <td>386.690002</td>\n",
       "      <td>389.609985</td>\n",
       "      <td>379.350006</td>\n",
       "      <td>385.000000</td>\n",
       "      <td>385.000000</td>\n",
       "      <td>3.716390e+07</td>\n",
       "    </tr>\n",
       "  </tbody>\n",
       "</table>\n",
       "</div>"
      ],
      "text/plain": [
       "              Open         High          Low        Close    Adj Close  \\\n",
       "count  2264.000000  2264.000000  2264.000000  2264.000000  2264.000000   \n",
       "mean    181.712778   184.853003   178.378352   181.708993   181.708993   \n",
       "std     112.542163   114.274684   110.667577   112.540258   112.540258   \n",
       "min      19.620001    19.790001    19.330000    19.480000    19.480000   \n",
       "25%      34.490000    34.995000    33.799999    34.430000    34.430000   \n",
       "50%     210.154999   214.000000   206.650002   209.970001   209.970001   \n",
       "75%     262.287498   265.667511   257.865005   262.099991   262.099991   \n",
       "max     386.690002   389.609985   379.350006   385.000000   385.000000   \n",
       "\n",
       "             Volume  \n",
       "count  2.264000e+03  \n",
       "mean   5.365184e+06  \n",
       "std    4.671656e+06  \n",
       "min    1.185000e+05  \n",
       "25%    1.839950e+06  \n",
       "50%    4.463750e+06  \n",
       "75%    7.166375e+06  \n",
       "max    3.716390e+07  "
      ]
     },
     "execution_count": 9,
     "metadata": {},
     "output_type": "execute_result"
    }
   ],
   "source": [
    "tsla.describe()"
   ]
  },
  {
   "cell_type": "markdown",
   "metadata": {},
   "source": [
    "Show first five rows:"
   ]
  },
  {
   "cell_type": "code",
   "execution_count": 10,
   "metadata": {},
   "outputs": [
    {
     "data": {
      "text/html": [
       "<div>\n",
       "<style scoped>\n",
       "    .dataframe tbody tr th:only-of-type {\n",
       "        vertical-align: middle;\n",
       "    }\n",
       "\n",
       "    .dataframe tbody tr th {\n",
       "        vertical-align: top;\n",
       "    }\n",
       "\n",
       "    .dataframe thead th {\n",
       "        text-align: right;\n",
       "    }\n",
       "</style>\n",
       "<table border=\"1\" class=\"dataframe\">\n",
       "  <thead>\n",
       "    <tr style=\"text-align: right;\">\n",
       "      <th></th>\n",
       "      <th>Date</th>\n",
       "      <th>Open</th>\n",
       "      <th>High</th>\n",
       "      <th>Low</th>\n",
       "      <th>Close</th>\n",
       "      <th>Adj Close</th>\n",
       "      <th>Volume</th>\n",
       "    </tr>\n",
       "  </thead>\n",
       "  <tbody>\n",
       "    <tr>\n",
       "      <td>0</td>\n",
       "      <td>2010-08-30</td>\n",
       "      <td>19.700001</td>\n",
       "      <td>20.190001</td>\n",
       "      <td>19.610001</td>\n",
       "      <td>19.870001</td>\n",
       "      <td>19.870001</td>\n",
       "      <td>732800</td>\n",
       "    </tr>\n",
       "    <tr>\n",
       "      <td>1</td>\n",
       "      <td>2010-08-31</td>\n",
       "      <td>19.660000</td>\n",
       "      <td>19.790001</td>\n",
       "      <td>19.330000</td>\n",
       "      <td>19.480000</td>\n",
       "      <td>19.480000</td>\n",
       "      <td>201100</td>\n",
       "    </tr>\n",
       "    <tr>\n",
       "      <td>2</td>\n",
       "      <td>2010-09-01</td>\n",
       "      <td>19.620001</td>\n",
       "      <td>20.690001</td>\n",
       "      <td>19.600000</td>\n",
       "      <td>20.450001</td>\n",
       "      <td>20.450001</td>\n",
       "      <td>494900</td>\n",
       "    </tr>\n",
       "    <tr>\n",
       "      <td>3</td>\n",
       "      <td>2010-09-02</td>\n",
       "      <td>20.370001</td>\n",
       "      <td>21.240000</td>\n",
       "      <td>20.309999</td>\n",
       "      <td>21.059999</td>\n",
       "      <td>21.059999</td>\n",
       "      <td>487100</td>\n",
       "    </tr>\n",
       "    <tr>\n",
       "      <td>4</td>\n",
       "      <td>2010-09-03</td>\n",
       "      <td>20.870001</td>\n",
       "      <td>21.299999</td>\n",
       "      <td>20.660000</td>\n",
       "      <td>21.049999</td>\n",
       "      <td>21.049999</td>\n",
       "      <td>434600</td>\n",
       "    </tr>\n",
       "  </tbody>\n",
       "</table>\n",
       "</div>"
      ],
      "text/plain": [
       "         Date       Open       High        Low      Close  Adj Close  Volume\n",
       "0  2010-08-30  19.700001  20.190001  19.610001  19.870001  19.870001  732800\n",
       "1  2010-08-31  19.660000  19.790001  19.330000  19.480000  19.480000  201100\n",
       "2  2010-09-01  19.620001  20.690001  19.600000  20.450001  20.450001  494900\n",
       "3  2010-09-02  20.370001  21.240000  20.309999  21.059999  21.059999  487100\n",
       "4  2010-09-03  20.870001  21.299999  20.660000  21.049999  21.049999  434600"
      ]
     },
     "execution_count": 10,
     "metadata": {},
     "output_type": "execute_result"
    }
   ],
   "source": [
    "tsla.head()"
   ]
  },
  {
   "cell_type": "markdown",
   "metadata": {},
   "source": [
    "Show correlations among features:"
   ]
  },
  {
   "cell_type": "code",
   "execution_count": 11,
   "metadata": {},
   "outputs": [
    {
     "data": {
      "text/html": [
       "<div>\n",
       "<style scoped>\n",
       "    .dataframe tbody tr th:only-of-type {\n",
       "        vertical-align: middle;\n",
       "    }\n",
       "\n",
       "    .dataframe tbody tr th {\n",
       "        vertical-align: top;\n",
       "    }\n",
       "\n",
       "    .dataframe thead th {\n",
       "        text-align: right;\n",
       "    }\n",
       "</style>\n",
       "<table border=\"1\" class=\"dataframe\">\n",
       "  <thead>\n",
       "    <tr style=\"text-align: right;\">\n",
       "      <th></th>\n",
       "      <th>Open</th>\n",
       "      <th>High</th>\n",
       "      <th>Low</th>\n",
       "      <th>Close</th>\n",
       "      <th>Adj Close</th>\n",
       "      <th>Volume</th>\n",
       "    </tr>\n",
       "  </thead>\n",
       "  <tbody>\n",
       "    <tr>\n",
       "      <td>Open</td>\n",
       "      <td>1.000000</td>\n",
       "      <td>0.999554</td>\n",
       "      <td>0.999535</td>\n",
       "      <td>0.998986</td>\n",
       "      <td>0.998986</td>\n",
       "      <td>0.452064</td>\n",
       "    </tr>\n",
       "    <tr>\n",
       "      <td>High</td>\n",
       "      <td>0.999554</td>\n",
       "      <td>1.000000</td>\n",
       "      <td>0.999464</td>\n",
       "      <td>0.999604</td>\n",
       "      <td>0.999604</td>\n",
       "      <td>0.460974</td>\n",
       "    </tr>\n",
       "    <tr>\n",
       "      <td>Low</td>\n",
       "      <td>0.999535</td>\n",
       "      <td>0.999464</td>\n",
       "      <td>1.000000</td>\n",
       "      <td>0.999555</td>\n",
       "      <td>0.999555</td>\n",
       "      <td>0.442269</td>\n",
       "    </tr>\n",
       "    <tr>\n",
       "      <td>Close</td>\n",
       "      <td>0.998986</td>\n",
       "      <td>0.999604</td>\n",
       "      <td>0.999555</td>\n",
       "      <td>1.000000</td>\n",
       "      <td>1.000000</td>\n",
       "      <td>0.451975</td>\n",
       "    </tr>\n",
       "    <tr>\n",
       "      <td>Adj Close</td>\n",
       "      <td>0.998986</td>\n",
       "      <td>0.999604</td>\n",
       "      <td>0.999555</td>\n",
       "      <td>1.000000</td>\n",
       "      <td>1.000000</td>\n",
       "      <td>0.451975</td>\n",
       "    </tr>\n",
       "    <tr>\n",
       "      <td>Volume</td>\n",
       "      <td>0.452064</td>\n",
       "      <td>0.460974</td>\n",
       "      <td>0.442269</td>\n",
       "      <td>0.451975</td>\n",
       "      <td>0.451975</td>\n",
       "      <td>1.000000</td>\n",
       "    </tr>\n",
       "  </tbody>\n",
       "</table>\n",
       "</div>"
      ],
      "text/plain": [
       "               Open      High       Low     Close  Adj Close    Volume\n",
       "Open       1.000000  0.999554  0.999535  0.998986   0.998986  0.452064\n",
       "High       0.999554  1.000000  0.999464  0.999604   0.999604  0.460974\n",
       "Low        0.999535  0.999464  1.000000  0.999555   0.999555  0.442269\n",
       "Close      0.998986  0.999604  0.999555  1.000000   1.000000  0.451975\n",
       "Adj Close  0.998986  0.999604  0.999555  1.000000   1.000000  0.451975\n",
       "Volume     0.452064  0.460974  0.442269  0.451975   0.451975  1.000000"
      ]
     },
     "execution_count": 11,
     "metadata": {},
     "output_type": "execute_result"
    }
   ],
   "source": [
    "tsla.corr()"
   ]
  },
  {
   "cell_type": "markdown",
   "metadata": {},
   "source": [
    "#### 5. Perform a correlation between two different datasets. We'll analyze Tesla's closing stock price and Ford's closing stock price."
   ]
  },
  {
   "cell_type": "markdown",
   "metadata": {},
   "source": [
    "Load Ford's stock data:"
   ]
  },
  {
   "cell_type": "code",
   "execution_count": 12,
   "metadata": {},
   "outputs": [],
   "source": [
    "ford = pd.read_csv(\"F.csv\")"
   ]
  },
  {
   "cell_type": "markdown",
   "metadata": {},
   "source": [
    "Check to see it is loaded:"
   ]
  },
  {
   "cell_type": "code",
   "execution_count": 13,
   "metadata": {},
   "outputs": [
    {
     "data": {
      "text/html": [
       "<div>\n",
       "<style scoped>\n",
       "    .dataframe tbody tr th:only-of-type {\n",
       "        vertical-align: middle;\n",
       "    }\n",
       "\n",
       "    .dataframe tbody tr th {\n",
       "        vertical-align: top;\n",
       "    }\n",
       "\n",
       "    .dataframe thead th {\n",
       "        text-align: right;\n",
       "    }\n",
       "</style>\n",
       "<table border=\"1\" class=\"dataframe\">\n",
       "  <thead>\n",
       "    <tr style=\"text-align: right;\">\n",
       "      <th></th>\n",
       "      <th>Date</th>\n",
       "      <th>Open</th>\n",
       "      <th>High</th>\n",
       "      <th>Low</th>\n",
       "      <th>Close</th>\n",
       "      <th>Adj Close</th>\n",
       "      <th>Volume</th>\n",
       "    </tr>\n",
       "  </thead>\n",
       "  <tbody>\n",
       "    <tr>\n",
       "      <td>0</td>\n",
       "      <td>2010-08-30</td>\n",
       "      <td>11.58</td>\n",
       "      <td>11.68</td>\n",
       "      <td>11.35</td>\n",
       "      <td>11.35</td>\n",
       "      <td>8.103217</td>\n",
       "      <td>33651500</td>\n",
       "    </tr>\n",
       "    <tr>\n",
       "      <td>1</td>\n",
       "      <td>2010-08-31</td>\n",
       "      <td>11.27</td>\n",
       "      <td>11.46</td>\n",
       "      <td>11.13</td>\n",
       "      <td>11.29</td>\n",
       "      <td>8.060384</td>\n",
       "      <td>64984700</td>\n",
       "    </tr>\n",
       "    <tr>\n",
       "      <td>2</td>\n",
       "      <td>2010-09-01</td>\n",
       "      <td>11.53</td>\n",
       "      <td>11.89</td>\n",
       "      <td>11.46</td>\n",
       "      <td>11.61</td>\n",
       "      <td>8.288841</td>\n",
       "      <td>81988800</td>\n",
       "    </tr>\n",
       "    <tr>\n",
       "      <td>3</td>\n",
       "      <td>2010-09-02</td>\n",
       "      <td>11.68</td>\n",
       "      <td>11.83</td>\n",
       "      <td>11.57</td>\n",
       "      <td>11.71</td>\n",
       "      <td>8.360237</td>\n",
       "      <td>39943600</td>\n",
       "    </tr>\n",
       "    <tr>\n",
       "      <td>4</td>\n",
       "      <td>2010-09-03</td>\n",
       "      <td>11.88</td>\n",
       "      <td>12.14</td>\n",
       "      <td>11.84</td>\n",
       "      <td>12.07</td>\n",
       "      <td>8.617258</td>\n",
       "      <td>65243900</td>\n",
       "    </tr>\n",
       "  </tbody>\n",
       "</table>\n",
       "</div>"
      ],
      "text/plain": [
       "         Date   Open   High    Low  Close  Adj Close    Volume\n",
       "0  2010-08-30  11.58  11.68  11.35  11.35   8.103217  33651500\n",
       "1  2010-08-31  11.27  11.46  11.13  11.29   8.060384  64984700\n",
       "2  2010-09-01  11.53  11.89  11.46  11.61   8.288841  81988800\n",
       "3  2010-09-02  11.68  11.83  11.57  11.71   8.360237  39943600\n",
       "4  2010-09-03  11.88  12.14  11.84  12.07   8.617258  65243900"
      ]
     },
     "execution_count": 13,
     "metadata": {},
     "output_type": "execute_result"
    }
   ],
   "source": [
    "ford.head()"
   ]
  },
  {
   "cell_type": "markdown",
   "metadata": {},
   "source": [
    "Check to see if the dimensions of each dataset are equal:"
   ]
  },
  {
   "cell_type": "code",
   "execution_count": 14,
   "metadata": {},
   "outputs": [
    {
     "data": {
      "text/plain": [
       "(2264, 7)"
      ]
     },
     "execution_count": 14,
     "metadata": {},
     "output_type": "execute_result"
    }
   ],
   "source": [
    "tsla.shape"
   ]
  },
  {
   "cell_type": "code",
   "execution_count": 15,
   "metadata": {},
   "outputs": [
    {
     "data": {
      "text/plain": [
       "(2264, 7)"
      ]
     },
     "execution_count": 15,
     "metadata": {},
     "output_type": "execute_result"
    }
   ],
   "source": [
    "ford.shape"
   ]
  },
  {
   "cell_type": "code",
   "execution_count": 16,
   "metadata": {},
   "outputs": [
    {
     "data": {
      "text/plain": [
       "True"
      ]
     },
     "execution_count": 16,
     "metadata": {},
     "output_type": "execute_result"
    }
   ],
   "source": [
    "tsla.shape == ford.shape"
   ]
  },
  {
   "cell_type": "markdown",
   "metadata": {},
   "source": [
    "Now perform the correlation:"
   ]
  },
  {
   "cell_type": "code",
   "execution_count": 17,
   "metadata": {},
   "outputs": [
    {
     "data": {
      "text/plain": [
       "Open        -0.164613\n",
       "High        -0.172042\n",
       "Low         -0.155612\n",
       "Close       -0.164947\n",
       "Adj Close    0.257542\n",
       "Volume      -0.144686\n",
       "dtype: float64"
      ]
     },
     "execution_count": 17,
     "metadata": {},
     "output_type": "execute_result"
    }
   ],
   "source": [
    "tsla.corrwith(ford)"
   ]
  },
  {
   "cell_type": "markdown",
   "metadata": {},
   "source": [
    "#### 6. Now let's practice plotting the data.\n",
    "\n",
    "We will be using the 'Close' column of the Tesla dataset to analyze trends in the price of the stock since 2010.\n",
    "\n",
    "Within the plot, we will also compute moving averages to determine whether Tesla stock has experienced the \"death cross\", which is a technical indicator.\n",
    "\n",
    "* The death cross is a technical chart pattern indicating the potential for a major selloff.\n",
    "* The death cross appears on a chart when a stock’s short-term moving average crosses below its long-term moving average.\n",
    "* The death cross indicator has proven to be a reliable predictor of some of the most severe bear markets of the past century: 1929, 1938, 1974, and 2008\n",
    "* The death cross can be contrasted with a golden cross indicating a bull price movement."
   ]
  },
  {
   "cell_type": "markdown",
   "metadata": {},
   "source": [
    "First, let's isolate the closing price data:"
   ]
  },
  {
   "cell_type": "code",
   "execution_count": 18,
   "metadata": {},
   "outputs": [],
   "source": [
    "tsla_close = tsla.loc[:,'Close']"
   ]
  },
  {
   "cell_type": "markdown",
   "metadata": {},
   "source": [
    "Check the data:"
   ]
  },
  {
   "cell_type": "code",
   "execution_count": 19,
   "metadata": {},
   "outputs": [
    {
     "data": {
      "text/plain": [
       "0    19.870001\n",
       "1    19.480000\n",
       "2    20.450001\n",
       "3    21.059999\n",
       "4    21.049999\n",
       "Name: Close, dtype: float64"
      ]
     },
     "execution_count": 19,
     "metadata": {},
     "output_type": "execute_result"
    }
   ],
   "source": [
    "tsla_close.head()"
   ]
  },
  {
   "cell_type": "markdown",
   "metadata": {},
   "source": [
    "Plot just the closing data using the matplotlib library which was imported in the first part:"
   ]
  },
  {
   "cell_type": "code",
   "execution_count": 22,
   "metadata": {},
   "outputs": [
    {
     "data": {
      "image/png": "[encoded data removed]",
      "text/plain": [
       "<Figure size 1152x648 with 1 Axes>"
      ]
     },
     "metadata": {
      "needs_background": "light"
     },
     "output_type": "display_data"
    }
   ],
   "source": [
    "fig, ax = plt.subplots(figsize=(16,9))\n",
    "\n",
    "ax.plot(tsla_close.index, tsla_close, label='TSLA')\n",
    "ax.plot(tsla_close.index, tsla_close.rolling(window=50).mean(), label='50-day moving average')\n",
    "ax.plot(tsla_close.index, tsla_close.rolling(window=200).mean(), label='200-day moving average')\n",
    "\n",
    "# I'm going to set the x label to Date\n",
    "ax.set_xlabel('Date')\n",
    "ax.set_ylabel('Closing price ($)')\n",
    "ax.legend()\n",
    "plt.show()"
   ]
  },
  {
   "cell_type": "markdown",
   "metadata": {},
   "source": [
    "#### 7. Your assignment:\n",
    "* Import one Apple's stock price data. Make sure to download the CSV file into the correct directory.\n",
    "* Plot the same chart as we did for Tesla using Apple's data. "
   ]
  },
  {
   "cell_type": "code",
   "execution_count": 24,
   "metadata": {},
   "outputs": [],
   "source": [
    "aapl = pd.read_csv(\"AAPL.csv\")"
   ]
  },
  {
   "cell_type": "code",
   "execution_count": 25,
   "metadata": {},
   "outputs": [
    {
     "data": {
      "text/plain": [
       "True"
      ]
     },
     "execution_count": 25,
     "metadata": {},
     "output_type": "execute_result"
    }
   ],
   "source": [
    "aapl.shape == tsla.shape"
   ]
  },
  {
   "cell_type": "code",
   "execution_count": 27,
   "metadata": {},
   "outputs": [],
   "source": [
    "aapl_close = aapl.loc[:,'Close']"
   ]
  },
  {
   "cell_type": "code",
   "execution_count": 29,
   "metadata": {},
   "outputs": [
    {
     "data": {
      "image/png": "[encoded data removed]",
      "text/plain": [
       "<Figure size 1152x648 with 1 Axes>"
      ]
     },
     "metadata": {
      "needs_background": "light"
     },
     "output_type": "display_data"
    }
   ],
   "source": [
    "fig, ax = plt.subplots(figsize=(16,9))\n",
    "\n",
    "ax.plot(aapl_close.index, aapl_close, label='AAPL')\n",
    "ax.plot(aapl_close.index, aapl_close.rolling(window=50).mean(), label='50-day moving average')\n",
    "ax.plot(aapl_close.index, aapl_close.rolling(window=200).mean(), label='200-day moving average')\n",
    "\n",
    "# I'm going to set the x label to Date\n",
    "ax.set_xlabel('Date')\n",
    "ax.set_ylabel('Closing price ($)')\n",
    "ax.legend()\n",
    "plt.show()"
   ]
  }
 ],
 "metadata": {
  "kernelspec": {
   "display_name": "Python 3",
   "language": "python",
   "name": "python3"
  },
  "language_info": {
   "codemirror_mode": {
    "name": "ipython",
    "version": 3
   },
   "file_extension": ".py",
   "mimetype": "text/x-python",
   "name": "python",
   "nbconvert_exporter": "python",
   "pygments_lexer": "ipython3",
   "version": "3.7.6"
  }
 },
 "nbformat": 4,
 "nbformat_minor": 2
}
