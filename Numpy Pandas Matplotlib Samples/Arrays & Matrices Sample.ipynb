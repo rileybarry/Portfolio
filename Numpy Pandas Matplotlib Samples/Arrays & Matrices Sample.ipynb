{
 "cells": [
  {
   "cell_type": "markdown",
   "metadata": {},
   "source": [
    "# Advanced Machine Learning with Python\n",
    "# Dr. Ali Dag\n",
    "# Assignment 2\n",
    "\n",
    "## There are 10 questions and each question is worth 0.5 pt, totaling 5 points. \n",
    "## Due date : Feb 19 (Friay), 2021 at 11:59 pm\n",
    "\n",
    "## Name the file “Name_Assignmnet2.ipynb” <br />\n",
    "\n",
    "If the question is not clear for you:<br />\n",
    "    - Use your judgement\n",
    "    - State your assumptions (what do you understand)\n",
    "    - Solve the problem\n",
    "    \n",
    "Good luck!"
   ]
  },
  {
   "cell_type": "markdown",
   "metadata": {},
   "source": [
    "## Question 1\n",
    "\n",
    "** Create a basic function that returns True if the word 'cat' is contained in the input string. Don't worry about edge cases like a punctuation being attached to the word cat, but do account for capitalization (CAT, cat, Cat, ....regarless of the case) **\n",
    "\n",
    "\n",
    "-  Hint : Use split function"
   ]
  },
  {
   "cell_type": "code",
   "execution_count": 11,
   "metadata": {},
   "outputs": [
    {
     "name": "stdout",
     "output_type": "stream",
     "text": [
      "lkj\n"
     ]
    }
   ],
   "source": [
    "str_name = str(input())\n",
    "str_name = str_name.lower()\n",
    "    \n",
    "def func():\n",
    "    if str_name == 'cat':        \n",
    "        return True\n",
    "func()"
   ]
  },
  {
   "cell_type": "markdown",
   "metadata": {},
   "source": [
    "## Question 2\n",
    "\n",
    "** Create a function that counts the number of times the word \"cat\" occurs in a string. Again ignore edge cases.  (count CAT, cat, Cat, ....regarless of the case) \n",
    "\n",
    "-  Hint : Use split function"
   ]
  },
  {
   "cell_type": "code",
   "execution_count": 25,
   "metadata": {},
   "outputs": [
    {
     "name": "stdout",
     "output_type": "stream",
     "text": [
      "catlkjncatlkjdsncat\n",
      "3\n"
     ]
    }
   ],
   "source": [
    "str_name = str(input())\n",
    "str_name = str_name.lower()\n",
    "\n",
    "def func():\n",
    "    cnt = str_name.count('cat')\n",
    "    print(cnt)\n",
    "func()"
   ]
  },
  {
   "cell_type": "markdown",
   "metadata": {},
   "source": [
    "## Question 3\n",
    "\n",
    "*You are driving a little too fast, and a police officer stops you. Write a function to return one of 3 possible results: \"Happy ending\", \"Not so happy ending!\", or \"Sad story\". If your speed is 65 or less, the result is \"Happy ending\". If speed is between 66 and 75 inclusive, the result is \"Not so happy ending!\". If speed is 76 or more, the result is \"Sad story\". Unless it is your birthday (encoded as a boolean value in the parameters of the function) -- on your birthday, your speed can be 5 higher in all cases. *\n"
   ]
  },
  {
   "cell_type": "code",
   "execution_count": 16,
   "metadata": {},
   "outputs": [
    {
     "name": "stdout",
     "output_type": "stream",
     "text": [
      "Enter birthday as MM/DD12/19\n",
      "0\n",
      "What is your speed?77\n",
      "Sad story\n"
     ]
    }
   ],
   "source": [
    "import datetime\n",
    "\n",
    "date = datetime.datetime.now()\n",
    "\n",
    "month = date.strftime(\"%m\")\n",
    "day = date.strftime(\"%d\")\n",
    "today_date = (month + '/' + day)\n",
    "\n",
    "speed = 0\n",
    "birthday = str(input('Enter birthday as MM/DD'))\n",
    "\n",
    "def func():\n",
    "    speed = int(input('What is your speed?'))\n",
    "    while birthday == today_date:\n",
    "        speed = speed - 5\n",
    "        break\n",
    "    if speed <= 65:\n",
    "        print('Happy ending')\n",
    "    elif speed >= 66 and speed <= 75:\n",
    "        if birthday == today_date:\n",
    "            speed = speed - 5\n",
    "        print('Not so happy ending!')\n",
    "    elif speed >= 76:\n",
    "        if birthday == today_date:\n",
    "            speed = speed - 5\n",
    "        print('Sad story')\n",
    "        \n",
    "print(speed)\n",
    "    \n",
    "func()"
   ]
  },
  {
   "cell_type": "markdown",
   "metadata": {},
   "source": [
    "## Question 4\n",
    "\n",
    "### BMI Calculator\n",
    "1. Accept the height in meters from input  --\"What is the height in meters?\"\n",
    "2. Accept the weight in kilograms from input  --\"What is the weight in kilograms?\"\n",
    "3. Write a function that includes the below functionality\n",
    "\t1. Takes height and weight as arguments. --BMI = (weight) / (height**2)\n",
    "\t2. The function should implement BMI calculation. \n",
    "\t3. Should return BMI value\n",
    "    \n",
    "4. Based on this value, write if statements to classify a person is obese, overweight, normal, or underweight.\n",
    "    - Underweight = <18.5\n",
    "    - Normal weight = 18.5–24.9\n",
    "    - Overweight = 25–29.9 \n",
    "    - Obesity = BMI of 30 or greater\n",
    "    \n",
    "5. End of the function the BMICalculator(weight_input, height_input) function should be called to complete the task!"
   ]
  },
  {
   "cell_type": "code",
   "execution_count": 24,
   "metadata": {},
   "outputs": [
    {
     "name": "stdout",
     "output_type": "stream",
     "text": [
      "What is the weight in kilograms?30\n",
      "What is the height in meters?2\n",
      "underweight\n"
     ]
    },
    {
     "data": {
      "text/plain": [
       "15.0"
      ]
     },
     "execution_count": 24,
     "metadata": {},
     "output_type": "execute_result"
    }
   ],
   "source": [
    "weight = float(input('What is the weight in kilograms?'))\n",
    "height = float(input('What is the height in meters?'))\n",
    "\n",
    "def bmi_calculator(weight_input, height_input):\n",
    "    bmi = weight_input/height_input\n",
    "    if bmi <= 18.5:\n",
    "        print('underweight')\n",
    "    elif bmi <= 24.9:\n",
    "        print('normal weight')\n",
    "    elif bmi <= 29.9:\n",
    "        print('overweight')\n",
    "    elif bmi >= 30:\n",
    "        print('obesity')\n",
    "    return bmi\n",
    "    \n",
    "bmi_calculator(weight, height)"
   ]
  },
  {
   "cell_type": "markdown",
   "metadata": {
    "collapsed": true
   },
   "source": [
    "## Question 5\n",
    "\n",
    "Factorial of any number n is represented by n! and is equal to 1 * 2 * 3 * .... * (n-1) * n.\n",
    "- For example:\n",
    " - 4! = 1 * 2 * 3 * 4 = 24\n",
    " - 3! = 3 * 2 * 1 = 6\n",
    " - 2! = 2 * 1 = 2\n",
    "  - Also,\n",
    "       - 1! = 1\n",
    "       - 0! = 1\n",
    "       \n",
    "**Write a program that asks a number input from a user and calculate factorial of that number.**"
   ]
  },
  {
   "cell_type": "code",
   "execution_count": 42,
   "metadata": {},
   "outputs": [
    {
     "name": "stdout",
     "output_type": "stream",
     "text": [
      "1\n"
     ]
    },
    {
     "data": {
      "text/plain": [
       "1"
      ]
     },
     "execution_count": 42,
     "metadata": {},
     "output_type": "execute_result"
    }
   ],
   "source": [
    "number = int(input())\n",
    "\n",
    "def fact(num):\n",
    "    return 1 if (num == 0) else num * fact(num - 1)\n",
    "\n",
    "fact(number)"
   ]
  },
  {
   "cell_type": "markdown",
   "metadata": {},
   "source": [
    "##  Question 6:  \n",
    "#### Generate a 3 by 4 matrix that consists of random numbers sampled from a standard normal distribution"
   ]
  },
  {
   "cell_type": "code",
   "execution_count": 45,
   "metadata": {},
   "outputs": [
    {
     "name": "stdout",
     "output_type": "stream",
     "text": [
      "[[ 0.64103346 -1.11854306  1.25895191 -0.94799169]\n",
      " [ 1.42116685 -0.46213466 -0.81575569 -0.06751413]\n",
      " [-2.140905   -1.38348905  0.34165114  0.7990374 ]]\n"
     ]
    }
   ],
   "source": [
    "import numpy as np\n",
    "\n",
    "array = np.random.randn(3,4)\n",
    "\n",
    "print(array)"
   ]
  },
  {
   "cell_type": "markdown",
   "metadata": {},
   "source": [
    "## Question 7:  \n",
    "####  Write the appropriate code in the cell below to create the following matrix:"
   ]
  },
  {
   "cell_type": "code",
   "execution_count": 61,
   "metadata": {},
   "outputs": [
    {
     "name": "stdout",
     "output_type": "stream",
     "text": [
      "[0.1 0.2 0.3 0.4 0.5 0.6 0.7 0.8 0.9 1.  1.1 1.2 1.3 1.4 1.5 1.6 1.7 1.8\n",
      " 1.9 2. ]\n",
      "[[0.1 0.2 0.3 0.4 0.5]\n",
      " [0.6 0.7 0.8 0.9 1. ]\n",
      " [1.1 1.2 1.3 1.4 1.5]\n",
      " [1.6 1.7 1.8 1.9 2. ]]\n"
     ]
    }
   ],
   "source": [
    "array = np.arange(.1,2.1,.1)\n",
    "array = array.reshape(4,5)\n",
    "print(array)"
   ]
  },
  {
   "cell_type": "markdown",
   "metadata": {},
   "source": [
    "## For questions 8, 9 and 10, use the \"my_array_1\" array that is created in the cell below."
   ]
  },
  {
   "cell_type": "code",
   "execution_count": 74,
   "metadata": {},
   "outputs": [
    {
     "data": {
      "text/plain": [
       "array([[15, 14, 15,  3, 13],\n",
       "       [ 3,  7,  2,  4, 11],\n",
       "       [12, 10,  7,  2,  1]])"
      ]
     },
     "execution_count": 74,
     "metadata": {},
     "output_type": "execute_result"
    }
   ],
   "source": [
    "np.random.seed(123)\n",
    "my_array_1 = np.random.randint(1,16,15).reshape(3,5)\n",
    "my_array_1"
   ]
  },
  {
   "cell_type": "markdown",
   "metadata": {
    "collapsed": true
   },
   "source": [
    "## Question 8 :\n",
    "\n",
    "#### Write the code (indexing/slicing) below that generates the new matrix below it."
   ]
  },
  {
   "cell_type": "code",
   "execution_count": 5,
   "metadata": {},
   "outputs": [
    {
     "data": {
      "text/plain": [
       "array([[ 2,  4, 11],\n",
       "       [ 7,  2,  1]])"
      ]
     },
     "execution_count": 5,
     "metadata": {},
     "output_type": "execute_result"
    }
   ],
   "source": []
  },
  {
   "cell_type": "code",
   "execution_count": 86,
   "metadata": {
    "scrolled": true
   },
   "outputs": [
    {
     "name": "stdout",
     "output_type": "stream",
     "text": [
      "[[ 2  4 11]\n",
      " [ 7  2  1]]\n"
     ]
    }
   ],
   "source": [
    "one = int(my_array_1[2,3])\n",
    "two = int(my_array_1[1,3])\n",
    "three = int(my_array_1[1,4])\n",
    "four = int(my_array_1[1,1])\n",
    "five = int(my_array_1[1,2])\n",
    "six = int(my_array_1[2,4])\n",
    "\n",
    "new_array = np.array([[one, two, three],[four, five, six]])\n",
    "print(new_array)"
   ]
  },
  {
   "cell_type": "markdown",
   "metadata": {
    "collapsed": true
   },
   "source": [
    "## Question 9 :\n",
    "\n",
    "#### Write the code (indexing/slicing) below that generates the new matrix below it."
   ]
  },
  {
   "cell_type": "code",
   "execution_count": 6,
   "metadata": {},
   "outputs": [
    {
     "data": {
      "text/plain": [
       "array([[14, 15],\n",
       "       [ 7,  2]])"
      ]
     },
     "execution_count": 6,
     "metadata": {},
     "output_type": "execute_result"
    }
   ],
   "source": []
  },
  {
   "cell_type": "code",
   "execution_count": 87,
   "metadata": {},
   "outputs": [
    {
     "name": "stdout",
     "output_type": "stream",
     "text": [
      "[[14 15]\n",
      " [ 7  2]]\n"
     ]
    }
   ],
   "source": [
    "one = int(my_array_1[0,1])\n",
    "two = int(my_array_1[0,0])\n",
    "three = int(my_array_1[1,1])\n",
    "four = int(my_array_1[1,2])\n",
    "\n",
    "new_array = np.array([[one, two],[three, four]])\n",
    "print(new_array)"
   ]
  },
  {
   "cell_type": "markdown",
   "metadata": {},
   "source": [
    "## Question 10 : (Please use \"my_array_1\" to work on the following steps.\n",
    "\n",
    "#### Step 1:  Get the sum of all the values in my_array_1\n",
    "#### Step 2:  Get the standard deviation of the values in my_array_1\n",
    "#### Step 3:  Get the sum of all the columns in my_array_1\n"
   ]
  },
  {
   "cell_type": "code",
   "execution_count": 89,
   "metadata": {},
   "outputs": [
    {
     "name": "stdout",
     "output_type": "stream",
     "text": [
      "119\n",
      "5.012872319228657\n",
      "[30 31 24  9 25]\n"
     ]
    }
   ],
   "source": [
    "arr_sum = np.sum(my_array_1)\n",
    "print(arr_sum)\n",
    "\n",
    "arr_sd = np.std(my_array_1)\n",
    "print(arr_sd)\n",
    "\n",
    "#isn't the sum of all the columns the same as the sum of all the values?\n",
    "arr_sum_col = np.sum(my_array_1, axis=0)\n",
    "print(arr_sum_col)"
   ]
  },
  {
   "cell_type": "markdown",
   "metadata": {},
   "source": [
    "## Good Luck"
   ]
  }
 ],
 "metadata": {
  "kernelspec": {
   "display_name": "Python 3",
   "language": "python",
   "name": "python3"
  },
  "language_info": {
   "codemirror_mode": {
    "name": "ipython",
    "version": 3
   },
   "file_extension": ".py",
   "mimetype": "text/x-python",
   "name": "python",
   "nbconvert_exporter": "python",
   "pygments_lexer": "ipython3",
   "version": "3.8.1"
  }
 },
 "nbformat": 4,
 "nbformat_minor": 2
}
